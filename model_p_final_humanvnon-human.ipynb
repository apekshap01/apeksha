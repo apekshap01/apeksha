{
  "nbformat": 4,
  "nbformat_minor": 0,
  "metadata": {
    "colab": {
      "provenance": [],
      "mount_file_id": "1fQOre13gRGJ0_1K8Z8UD9L2eat_cOYtC",
      "authorship_tag": "ABX9TyOS4pm6SAMUYSejKOk41Irl",
      "include_colab_link": true
    },
    "kernelspec": {
      "name": "python3",
      "display_name": "Python 3"
    },
    "language_info": {
      "name": "python"
    }
  },
  "cells": [
    {
      "cell_type": "markdown",
      "metadata": {
        "id": "view-in-github",
        "colab_type": "text"
      },
      "source": [
        "<a href=\"https://colab.research.google.com/github/nightKnight112/Bin_with_a_Brain/blob/main/model_p_final_humanvnon-human.ipynb\" target=\"_parent\"><img src=\"https://colab.research.google.com/assets/colab-badge.svg\" alt=\"Open In Colab\"/></a>"
      ]
    },
    {
      "cell_type": "markdown",
      "source": [
        "# CNN Model to predict if the intrusion is Human or Not-Human"
      ],
      "metadata": {
        "id": "FX-byh7VCavK"
      }
    },
    {
      "cell_type": "code",
      "execution_count": null,
      "metadata": {
        "id": "EJz_zyy3CRNZ"
      },
      "outputs": [],
      "source": [
        "import numpy as np\n",
        "import pandas as pd\n",
        "import matplotlib.pyplot as plt\n",
        "from PIL import Image\n",
        "import os\n",
        "\n",
        "import keras\n",
        "import tensorflow as tf\n",
        "from keras.preprocessing import image\n",
        "from keras.preprocessing.image import ImageDataGenerator\n",
        "from tensorflow.keras import layers\n",
        "from tensorflow.keras.models import Sequential\n",
        "from keras.layers import Conv2D, MaxPool2D, Activation\n",
        "from keras.layers import Dropout, Dense, Flatten, BatchNormalization"
      ]
    },
    {
      "cell_type": "markdown",
      "source": [
        "**Data**\n",
        "\n",
        "The dataset contains images divided into two classes: human and non-human and it is split into **train data (75%) and test data (25%). Training dataset contains 8018 images while test dataset 2724 images** The data is imported into the colab from here as **archive_hvnh.zip**\n",
        "\n",
        "**The Train and Validation splits of the dataset at 75% and 25%**\n",
        "\n",
        "The validation part(test_set) is again split into 10% and 90% for validation and testing respectively\n",
        "\n",
        "Extracting the dataset from a zip file"
      ],
      "metadata": {
        "id": "yEsz-hsaHMmS"
      }
    },
    {
      "cell_type": "code",
      "source": [
        "from zipfile import ZipFile\n",
        "zf = ZipFile('/content/drive/MyDrive/archive_hvnh.zip', 'r')\n",
        "zf.extractall()\n",
        "zf.close()"
      ],
      "metadata": {
        "id": "nSs-XkquGxXp"
      },
      "execution_count": null,
      "outputs": []
    },
    {
      "cell_type": "code",
      "source": [
        "train_dir = '/content/human-and-non-human/training_set/training_set'\n",
        "test_dir = '/content/human-and-non-human/test_set/test_set'"
      ],
      "metadata": {
        "id": "uROx3mt9IBt2"
      },
      "execution_count": null,
      "outputs": []
    },
    {
      "cell_type": "markdown",
      "source": [
        "**Data augumentation**\n",
        "\n",
        "We use **ImageDataGenerator** to create a transformation that rescales the images and applied data augmentation as well. We generate augumentation only for train data while validation data are only rescaling ones.\n",
        "\n",
        "**Keras ImageDataGenerator** class is used which provides a quick and easy way to label all of our images based on the directories they are in. Also, it provides many of different augmentation techniques like standardization, shifts, rotation, flips, brightness change etc."
      ],
      "metadata": {
        "id": "v6qXJh_VIS2s"
      }
    },
    {
      "cell_type": "code",
      "source": [
        "train_datagen = ImageDataGenerator(rotation_range=10,\n",
        "                                   width_shift_range=0.2,\n",
        "                                   height_shift_range=0.2, \n",
        "                                   zoom_range=0.2,\n",
        "                                   horizontal_flip=True,\n",
        "                                   vertical_flip = True,\n",
        "                                   rescale=1./255\n",
        "                                   )\n",
        "\n",
        "\n",
        "val_datagen = ImageDataGenerator(rescale = 1./255, validation_split=0.1) #rescaling for normalization of image features"
      ],
      "metadata": {
        "id": "HHkSNX4qISd6"
      },
      "execution_count": null,
      "outputs": []
    },
    {
      "cell_type": "markdown",
      "source": [
        "Now we set our dataset into train, test and validation data.\n",
        "\n",
        "We use the **flow_from_directory()** method which allows to read the images directly from the directory and augment them while the neural network model is learning on the training data."
      ],
      "metadata": {
        "id": "x_ir1hluJAc0"
      }
    },
    {
      "cell_type": "code",
      "source": [
        "Batch_size = 32  # we can also take the batch size at 64, but taking 32 as the batch size provides the most optimal methods\n",
        "\n",
        "train_set = train_datagen.flow_from_directory(train_dir, class_mode='binary',\n",
        "                                              batch_size = Batch_size,\n",
        "                                              target_size=(150, 150)) #flow_from_directory func takes the directory name as the label and labels all the imgs in it\n",
        "                                              #initial img input into network is 64 * 64 * 3\n",
        "\n",
        "\n",
        "val_set = val_datagen.flow_from_directory(test_dir, class_mode='binary',\n",
        "                                          batch_size = Batch_size,\n",
        "                                          target_size=(150, 150),\n",
        "                                          subset= 'training')\n",
        "   \n",
        "\n",
        "test_set = val_datagen.flow_from_directory(test_dir, class_mode = 'binary',\n",
        "                                           batch_size = Batch_size, \n",
        "                                           target_size=(150, 150),\n",
        "                                           subset= 'validation')"
      ],
      "metadata": {
        "colab": {
          "base_uri": "https://localhost:8080/"
        },
        "id": "3hPclifBI8wK",
        "outputId": "921e346a-5ce4-4f7a-f850-46d94d14ad73"
      },
      "execution_count": null,
      "outputs": [
        {
          "output_type": "stream",
          "name": "stdout",
          "text": [
            "Found 8017 images belonging to 2 classes.\n",
            "Found 2452 images belonging to 2 classes.\n",
            "Found 271 images belonging to 2 classes.\n"
          ]
        }
      ]
    },
    {
      "cell_type": "markdown",
      "source": [
        "**Class Indices**"
      ],
      "metadata": {
        "id": "jqMAdeX3JdTk"
      }
    },
    {
      "cell_type": "code",
      "source": [
        "train_set.class_indices"
      ],
      "metadata": {
        "colab": {
          "base_uri": "https://localhost:8080/"
        },
        "id": "xA2y30I5JYc3",
        "outputId": "55f96248-f20c-4b77-96ad-253fd1f65bb2"
      },
      "execution_count": null,
      "outputs": [
        {
          "output_type": "execute_result",
          "data": {
            "text/plain": [
              "{'humans': 0, 'non-humans': 1}"
            ]
          },
          "metadata": {},
          "execution_count": 6
        }
      ]
    },
    {
      "cell_type": "code",
      "source": [
        "train_set.image_shape"
      ],
      "metadata": {
        "colab": {
          "base_uri": "https://localhost:8080/"
        },
        "id": "UMWTMaUeJhOQ",
        "outputId": "f60befde-4c1b-4a1d-b078-0d6e91b209e8"
      },
      "execution_count": null,
      "outputs": [
        {
          "output_type": "execute_result",
          "data": {
            "text/plain": [
              "(150, 150, 3)"
            ]
          },
          "metadata": {},
          "execution_count": 7
        }
      ]
    },
    {
      "cell_type": "markdown",
      "source": [
        "**Model Creation**"
      ],
      "metadata": {
        "id": "jepYIpRvJzZ4"
      }
    },
    {
      "cell_type": "code",
      "source": [
        "\n",
        "model = Sequential([                \n",
        "        Conv2D(32, (3, 3), activation='relu', input_shape=(150, 150, 3)),\n",
        "        MaxPool2D((2, 2)),\n",
        "        Conv2D(64, (3, 3), activation='relu'),\n",
        "        MaxPool2D((2, 2)),\n",
        "        Conv2D(128, (3, 3), activation='relu'),\n",
        "        MaxPool2D((2, 2)),\n",
        "        Conv2D(128, (3, 3), activation='relu'),\n",
        "        MaxPool2D((2, 2)),\n",
        "        Flatten(),\n",
        "        Dropout(0.3),\n",
        "        Dense(512, activation='relu'),\n",
        "        Dense(units=1, activation=\"sigmoid\")\n",
        "])\n",
        "\n",
        "model.summary()"
      ],
      "metadata": {
        "colab": {
          "base_uri": "https://localhost:8080/"
        },
        "id": "KqcEuoyDJkB5",
        "outputId": "83d1be08-37e5-40dd-e1a7-20d6a9169fe4"
      },
      "execution_count": null,
      "outputs": [
        {
          "output_type": "stream",
          "name": "stdout",
          "text": [
            "Model: \"sequential\"\n",
            "_________________________________________________________________\n",
            " Layer (type)                Output Shape              Param #   \n",
            "=================================================================\n",
            " conv2d (Conv2D)             (None, 148, 148, 32)      896       \n",
            "                                                                 \n",
            " max_pooling2d (MaxPooling2D  (None, 74, 74, 32)       0         \n",
            " )                                                               \n",
            "                                                                 \n",
            " conv2d_1 (Conv2D)           (None, 72, 72, 64)        18496     \n",
            "                                                                 \n",
            " max_pooling2d_1 (MaxPooling  (None, 36, 36, 64)       0         \n",
            " 2D)                                                             \n",
            "                                                                 \n",
            " conv2d_2 (Conv2D)           (None, 34, 34, 128)       73856     \n",
            "                                                                 \n",
            " max_pooling2d_2 (MaxPooling  (None, 17, 17, 128)      0         \n",
            " 2D)                                                             \n",
            "                                                                 \n",
            " conv2d_3 (Conv2D)           (None, 15, 15, 128)       147584    \n",
            "                                                                 \n",
            " max_pooling2d_3 (MaxPooling  (None, 7, 7, 128)        0         \n",
            " 2D)                                                             \n",
            "                                                                 \n",
            " flatten (Flatten)           (None, 6272)              0         \n",
            "                                                                 \n",
            " dropout (Dropout)           (None, 6272)              0         \n",
            "                                                                 \n",
            " dense (Dense)               (None, 512)               3211776   \n",
            "                                                                 \n",
            " dense_1 (Dense)             (None, 1)                 513       \n",
            "                                                                 \n",
            "=================================================================\n",
            "Total params: 3,453,121\n",
            "Trainable params: 3,453,121\n",
            "Non-trainable params: 0\n",
            "_________________________________________________________________\n"
          ]
        }
      ]
    },
    {
      "cell_type": "markdown",
      "source": [
        "**Optimal LR finding function for the model**"
      ],
      "metadata": {
        "id": "R4wWu-b2LMrc"
      }
    },
    {
      "cell_type": "code",
      "source": [
        "#model.compile(loss='binary_crossentropy',\n",
        "            # optimizer=tf.keras.optimizers.experimental.RMSprop(lr=1e-4),\n",
        "            # metrics=['acc'])\n",
        "\n",
        "def adjust_learning_rate(model, dataset):\n",
        "        \n",
        "    lr_schedule = tf.keras.callbacks.LearningRateScheduler(lambda epoch: 1e-4 * 10**(epoch / 20))\n",
        "    \n",
        "    ### START CODE HERE\n",
        "    \n",
        "    # Select your optimizer\n",
        "    optimizer = tf.keras.optimizers.experimental.RMSprop()\n",
        "    \n",
        "    # Compile the model passing in the appropriate loss\n",
        "    model.compile(loss=tf.keras.losses.Huber(),\n",
        "                  optimizer=optimizer, \n",
        "                  metrics=[\"accuracy\"]) \n",
        "    \n",
        "    ### END CODE HERE\n",
        "    \n",
        "    history = model.fit(dataset, epochs=100, callbacks=[lr_schedule])\n",
        "    \n",
        "    return history"
      ],
      "metadata": {
        "id": "QeCtHZXcLQnk"
      },
      "execution_count": null,
      "outputs": []
    },
    {
      "cell_type": "code",
      "source": [
        "#his = adjust_learning_rate(model, train_set)  # for learning rate optimization if required\n",
        "model.compile(loss='binary_crossentropy',\n",
        "             optimizer=tf.keras.optimizers.experimental.RMSprop(learning_rate=1e-4),\n",
        "             metrics=['acc'])\n",
        "history = model.fit(train_set,\n",
        "                    steps_per_epoch=100,\n",
        "                    epochs= 30,\n",
        "                    validation_steps=50,\n",
        "                    validation_data=val_set)"
      ],
      "metadata": {
        "colab": {
          "base_uri": "https://localhost:8080/"
        },
        "id": "ExhcRPzuNcPG",
        "outputId": "67b25ee8-787a-4c31-b2c0-4bf299496774"
      },
      "execution_count": 10,
      "outputs": [
        {
          "output_type": "stream",
          "name": "stdout",
          "text": [
            "Epoch 1/30\n",
            "100/100 [==============================] - 197s 2s/step - loss: 0.4528 - acc: 0.7780 - val_loss: 0.2959 - val_acc: 0.8838\n",
            "Epoch 2/30\n",
            "100/100 [==============================] - 194s 2s/step - loss: 0.2578 - acc: 0.8972 - val_loss: 0.2265 - val_acc: 0.9062\n",
            "Epoch 3/30\n",
            "100/100 [==============================] - 193s 2s/step - loss: 0.2311 - acc: 0.9097 - val_loss: 0.2737 - val_acc: 0.8988\n",
            "Epoch 4/30\n",
            "100/100 [==============================] - 192s 2s/step - loss: 0.1828 - acc: 0.9306 - val_loss: 0.1607 - val_acc: 0.9362\n",
            "Epoch 5/30\n",
            "100/100 [==============================] - 195s 2s/step - loss: 0.1560 - acc: 0.9388 - val_loss: 0.2080 - val_acc: 0.9175\n",
            "Epoch 6/30\n",
            "100/100 [==============================] - 193s 2s/step - loss: 0.1482 - acc: 0.9447 - val_loss: 0.1512 - val_acc: 0.9394\n",
            "Epoch 7/30\n",
            "100/100 [==============================] - 194s 2s/step - loss: 0.1296 - acc: 0.9556 - val_loss: 0.2241 - val_acc: 0.9087\n",
            "Epoch 8/30\n",
            "100/100 [==============================] - 192s 2s/step - loss: 0.1243 - acc: 0.9563 - val_loss: 0.1011 - val_acc: 0.9588\n",
            "Epoch 9/30\n",
            "100/100 [==============================] - 194s 2s/step - loss: 0.1192 - acc: 0.9547 - val_loss: 0.1062 - val_acc: 0.9600\n",
            "Epoch 10/30\n",
            "100/100 [==============================] - 194s 2s/step - loss: 0.0921 - acc: 0.9700 - val_loss: 0.1491 - val_acc: 0.9469\n",
            "Epoch 11/30\n",
            "100/100 [==============================] - 192s 2s/step - loss: 0.1066 - acc: 0.9600 - val_loss: 0.1503 - val_acc: 0.9394\n",
            "Epoch 12/30\n",
            "100/100 [==============================] - 191s 2s/step - loss: 0.1008 - acc: 0.9664 - val_loss: 0.1051 - val_acc: 0.9613\n",
            "Epoch 13/30\n",
            "100/100 [==============================] - 197s 2s/step - loss: 0.1017 - acc: 0.9655 - val_loss: 0.3199 - val_acc: 0.8662\n",
            "Epoch 14/30\n",
            "100/100 [==============================] - 196s 2s/step - loss: 0.0842 - acc: 0.9691 - val_loss: 0.0678 - val_acc: 0.9712\n",
            "Epoch 15/30\n",
            "100/100 [==============================] - 195s 2s/step - loss: 0.0833 - acc: 0.9703 - val_loss: 0.0731 - val_acc: 0.9700\n",
            "Epoch 16/30\n",
            "100/100 [==============================] - 196s 2s/step - loss: 0.0764 - acc: 0.9706 - val_loss: 0.0887 - val_acc: 0.9619\n",
            "Epoch 17/30\n",
            "100/100 [==============================] - 195s 2s/step - loss: 0.0767 - acc: 0.9712 - val_loss: 0.0768 - val_acc: 0.9675\n",
            "Epoch 18/30\n",
            "100/100 [==============================] - 194s 2s/step - loss: 0.0789 - acc: 0.9746 - val_loss: 0.1200 - val_acc: 0.9569\n",
            "Epoch 19/30\n",
            "100/100 [==============================] - 193s 2s/step - loss: 0.0739 - acc: 0.9753 - val_loss: 0.0597 - val_acc: 0.9787\n",
            "Epoch 20/30\n",
            "100/100 [==============================] - 192s 2s/step - loss: 0.0740 - acc: 0.9736 - val_loss: 0.1384 - val_acc: 0.9513\n",
            "Epoch 21/30\n",
            "100/100 [==============================] - 194s 2s/step - loss: 0.0649 - acc: 0.9772 - val_loss: 0.1197 - val_acc: 0.9544\n",
            "Epoch 22/30\n",
            "100/100 [==============================] - 194s 2s/step - loss: 0.0603 - acc: 0.9816 - val_loss: 0.1061 - val_acc: 0.9600\n",
            "Epoch 23/30\n",
            "100/100 [==============================] - 194s 2s/step - loss: 0.0592 - acc: 0.9769 - val_loss: 0.1085 - val_acc: 0.9606\n",
            "Epoch 24/30\n",
            "100/100 [==============================] - 193s 2s/step - loss: 0.0553 - acc: 0.9844 - val_loss: 0.0388 - val_acc: 0.9869\n",
            "Epoch 25/30\n",
            "100/100 [==============================] - 192s 2s/step - loss: 0.0621 - acc: 0.9774 - val_loss: 0.0469 - val_acc: 0.9837\n",
            "Epoch 26/30\n",
            "100/100 [==============================] - 192s 2s/step - loss: 0.0528 - acc: 0.9819 - val_loss: 0.1421 - val_acc: 0.9444\n",
            "Epoch 27/30\n",
            "100/100 [==============================] - 194s 2s/step - loss: 0.0571 - acc: 0.9793 - val_loss: 0.0488 - val_acc: 0.9831\n",
            "Epoch 28/30\n",
            "100/100 [==============================] - 196s 2s/step - loss: 0.0550 - acc: 0.9797 - val_loss: 0.2398 - val_acc: 0.9144\n",
            "Epoch 29/30\n",
            "100/100 [==============================] - 193s 2s/step - loss: 0.0473 - acc: 0.9827 - val_loss: 0.2080 - val_acc: 0.9281\n",
            "Epoch 30/30\n",
            "100/100 [==============================] - 193s 2s/step - loss: 0.0510 - acc: 0.9812 - val_loss: 0.0816 - val_acc: 0.9694\n"
          ]
        }
      ]
    },
    {
      "cell_type": "code",
      "source": [
        "import matplotlib.pyplot as plt\n",
        "\n",
        "def plot_graphs(history, string):\n",
        "  plt.plot(history.history[string])\n",
        "  plt.plot(history.history['val_'+string])\n",
        "  plt.xlabel(\"Epochs\")\n",
        "  plt.ylabel(string)\n",
        "  plt.legend([string, 'val_'+string])\n",
        "  plt.show()\n",
        "  \n",
        "plot_graphs(history, \"acc\")\n",
        "plot_graphs(history, \"loss\")"
      ],
      "metadata": {
        "colab": {
          "base_uri": "https://localhost:8080/",
          "height": 541
        },
        "id": "MKXBnnNtxJfR",
        "outputId": "00c0d90b-10cd-4949-f07f-46c71b7bb4e0"
      },
      "execution_count": 11,
      "outputs": [
        {
          "output_type": "display_data",
          "data": {
            "text/plain": [
              "<Figure size 432x288 with 1 Axes>"
            ],
            "image/png": "[encoded data removed]"
          },
          "metadata": {
            "needs_background": "light"
          }
        },
        {
          "output_type": "display_data",
          "data": {
            "text/plain": [
              "<Figure size 432x288 with 1 Axes>"
            ],
            "image/png": "[encoded data removed]"
          },
          "metadata": {
            "needs_background": "light"
          }
        }
      ]
    },
    {
      "cell_type": "code",
      "source": [
        "loss, accuracy = model.evaluate(test_set, verbose=False)\n",
        "print(\"Testing Accuracy:  {:.4f}\".format(accuracy))\n",
        "print(\"Accuracy in %: \", accuracy*100)"
      ],
      "metadata": {
        "colab": {
          "base_uri": "https://localhost:8080/"
        },
        "id": "FU8-t_KXuHLl",
        "outputId": "10596943-8100-466b-a25d-03ea0631d12b"
      },
      "execution_count": 12,
      "outputs": [
        {
          "output_type": "stream",
          "name": "stdout",
          "text": [
            "Testing Accuracy:  0.9742\n",
            "Accuracy in %:  97.41697311401367\n"
          ]
        }
      ]
    }
  ]
}